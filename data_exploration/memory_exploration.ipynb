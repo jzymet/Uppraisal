{
 "cells": [
  {
   "cell_type": "markdown",
   "metadata": {},
   "source": [
    "This notebook explores how memory—or storage capacity—relates to sales price. In summary:\n",
    "- Laptops with higher capacity sell for more.\n",
    "- Including memory capacity in the title generally raises selling price, and the effect is especially great when the laptop has high capacity.\n",
    "- The same relationship holds between listing description and memory, though it's more subtle."
   ]
  },
  {
   "cell_type": "code",
   "execution_count": 38,
   "metadata": {},
   "outputs": [
    {
     "data": {
      "text/html": [
       "<div>\n",
       "<style scoped>\n",
       "    .dataframe tbody tr th:only-of-type {\n",
       "        vertical-align: middle;\n",
       "    }\n",
       "\n",
       "    .dataframe tbody tr th {\n",
       "        vertical-align: top;\n",
       "    }\n",
       "\n",
       "    .dataframe thead th {\n",
       "        text-align: right;\n",
       "    }\n",
       "</style>\n",
       "<table border=\"1\" class=\"dataframe\">\n",
       "  <thead>\n",
       "    <tr style=\"text-align: right;\">\n",
       "      <th></th>\n",
       "      <th>itemId</th>\n",
       "      <th>description</th>\n",
       "      <th>year</th>\n",
       "      <th>size</th>\n",
       "      <th>memory</th>\n",
       "      <th>containsDescription</th>\n",
       "      <th>title</th>\n",
       "      <th>condition</th>\n",
       "      <th>price</th>\n",
       "      <th>watchCount</th>\n",
       "      <th>...</th>\n",
       "      <th>used_in_description</th>\n",
       "      <th>used_in_title</th>\n",
       "      <th>year_in_description</th>\n",
       "      <th>year_in_title</th>\n",
       "      <th>size_in_description</th>\n",
       "      <th>size_in_title</th>\n",
       "      <th>memory_in_description</th>\n",
       "      <th>memory_in_title</th>\n",
       "      <th>n_words_in_description</th>\n",
       "      <th>n_words_in_title</th>\n",
       "    </tr>\n",
       "  </thead>\n",
       "  <tbody>\n",
       "    <tr>\n",
       "      <th>0</th>\n",
       "      <td>NaN</td>\n",
       "      <td>NaN</td>\n",
       "      <td>2011.0</td>\n",
       "      <td>17.0</td>\n",
       "      <td>16</td>\n",
       "      <td>0</td>\n",
       "      <td>Used Apple MacBook Pro 17 Inch, 2.2GHz quad-co...</td>\n",
       "      <td>NaN</td>\n",
       "      <td>700.0</td>\n",
       "      <td>NaN</td>\n",
       "      <td>...</td>\n",
       "      <td>False</td>\n",
       "      <td>True</td>\n",
       "      <td>False</td>\n",
       "      <td>False</td>\n",
       "      <td>False</td>\n",
       "      <td>True</td>\n",
       "      <td>False</td>\n",
       "      <td>True</td>\n",
       "      <td>0</td>\n",
       "      <td>12</td>\n",
       "    </tr>\n",
       "    <tr>\n",
       "      <th>1</th>\n",
       "      <td>NaN</td>\n",
       "      <td>Used Space Gray Macbook pro 15' (2017) with To...</td>\n",
       "      <td>2017.0</td>\n",
       "      <td>15.0</td>\n",
       "      <td>16</td>\n",
       "      <td>1</td>\n",
       "      <td>Used Space Gray Macbook pro 15' (2017) with To...</td>\n",
       "      <td>NaN</td>\n",
       "      <td>1000.0</td>\n",
       "      <td>NaN</td>\n",
       "      <td>...</td>\n",
       "      <td>True</td>\n",
       "      <td>True</td>\n",
       "      <td>True</td>\n",
       "      <td>True</td>\n",
       "      <td>True</td>\n",
       "      <td>True</td>\n",
       "      <td>False</td>\n",
       "      <td>False</td>\n",
       "      <td>19</td>\n",
       "      <td>9</td>\n",
       "    </tr>\n",
       "    <tr>\n",
       "      <th>2</th>\n",
       "      <td>NaN</td>\n",
       "      <td>Macbook Pro A1297 Mid 2011 17' 2.3 GHz 8GB RAM...</td>\n",
       "      <td>2011.0</td>\n",
       "      <td>17.0</td>\n",
       "      <td>80</td>\n",
       "      <td>1</td>\n",
       "      <td>Macbook Pro A1297 Mid 2011 17' 2.3 GHz 8GB RAM...</td>\n",
       "      <td>NaN</td>\n",
       "      <td>310.0</td>\n",
       "      <td>NaN</td>\n",
       "      <td>...</td>\n",
       "      <td>True</td>\n",
       "      <td>True</td>\n",
       "      <td>True</td>\n",
       "      <td>True</td>\n",
       "      <td>True</td>\n",
       "      <td>True</td>\n",
       "      <td>False</td>\n",
       "      <td>False</td>\n",
       "      <td>354</td>\n",
       "      <td>15</td>\n",
       "    </tr>\n",
       "    <tr>\n",
       "      <th>3</th>\n",
       "      <td>2.940000e+11</td>\n",
       "      <td>I have a beautiful MacBook Pro for sale. It ha...</td>\n",
       "      <td>2009.0</td>\n",
       "      <td>15.0</td>\n",
       "      <td>120</td>\n",
       "      <td>1</td>\n",
       "      <td>Apple MacBook Pro OSX 2016 2.53GHz 4GB 120GB S...</td>\n",
       "      <td>Seller refurbished</td>\n",
       "      <td>300.0</td>\n",
       "      <td>7.0</td>\n",
       "      <td>...</td>\n",
       "      <td>True</td>\n",
       "      <td>False</td>\n",
       "      <td>False</td>\n",
       "      <td>False</td>\n",
       "      <td>True</td>\n",
       "      <td>True</td>\n",
       "      <td>True</td>\n",
       "      <td>True</td>\n",
       "      <td>286</td>\n",
       "      <td>13</td>\n",
       "    </tr>\n",
       "    <tr>\n",
       "      <th>4</th>\n",
       "      <td>2.750000e+11</td>\n",
       "      <td>MacBook Pro 13inch (Early 2011) in great condi...</td>\n",
       "      <td>2011.0</td>\n",
       "      <td>13.0</td>\n",
       "      <td>120</td>\n",
       "      <td>1</td>\n",
       "      <td>MacBook Pro 13-inch Early 2011 120GB SSD/10GB RAM</td>\n",
       "      <td>Used</td>\n",
       "      <td>249.0</td>\n",
       "      <td>2.0</td>\n",
       "      <td>...</td>\n",
       "      <td>False</td>\n",
       "      <td>False</td>\n",
       "      <td>True</td>\n",
       "      <td>True</td>\n",
       "      <td>True</td>\n",
       "      <td>True</td>\n",
       "      <td>True</td>\n",
       "      <td>True</td>\n",
       "      <td>906</td>\n",
       "      <td>7</td>\n",
       "    </tr>\n",
       "  </tbody>\n",
       "</table>\n",
       "<p>5 rows × 24 columns</p>\n",
       "</div>"
      ],
      "text/plain": [
       "         itemId                                        description    year  \\\n",
       "0           NaN                                                NaN  2011.0   \n",
       "1           NaN  Used Space Gray Macbook pro 15' (2017) with To...  2017.0   \n",
       "2           NaN  Macbook Pro A1297 Mid 2011 17' 2.3 GHz 8GB RAM...  2011.0   \n",
       "3  2.940000e+11  I have a beautiful MacBook Pro for sale. It ha...  2009.0   \n",
       "4  2.750000e+11  MacBook Pro 13inch (Early 2011) in great condi...  2011.0   \n",
       "\n",
       "   size  memory  containsDescription  \\\n",
       "0  17.0      16                    0   \n",
       "1  15.0      16                    1   \n",
       "2  17.0      80                    1   \n",
       "3  15.0     120                    1   \n",
       "4  13.0     120                    1   \n",
       "\n",
       "                                               title           condition  \\\n",
       "0  Used Apple MacBook Pro 17 Inch, 2.2GHz quad-co...                 NaN   \n",
       "1  Used Space Gray Macbook pro 15' (2017) with To...                 NaN   \n",
       "2  Macbook Pro A1297 Mid 2011 17' 2.3 GHz 8GB RAM...                 NaN   \n",
       "3  Apple MacBook Pro OSX 2016 2.53GHz 4GB 120GB S...  Seller refurbished   \n",
       "4  MacBook Pro 13-inch Early 2011 120GB SSD/10GB RAM                Used   \n",
       "\n",
       "    price  watchCount  ...  used_in_description  used_in_title  \\\n",
       "0   700.0         NaN  ...                False           True   \n",
       "1  1000.0         NaN  ...                 True           True   \n",
       "2   310.0         NaN  ...                 True           True   \n",
       "3   300.0         7.0  ...                 True          False   \n",
       "4   249.0         2.0  ...                False          False   \n",
       "\n",
       "   year_in_description  year_in_title  size_in_description  size_in_title  \\\n",
       "0                False          False                False           True   \n",
       "1                 True           True                 True           True   \n",
       "2                 True           True                 True           True   \n",
       "3                False          False                 True           True   \n",
       "4                 True           True                 True           True   \n",
       "\n",
       "   memory_in_description  memory_in_title  n_words_in_description  \\\n",
       "0                  False             True                       0   \n",
       "1                  False            False                      19   \n",
       "2                  False            False                     354   \n",
       "3                   True             True                     286   \n",
       "4                   True             True                     906   \n",
       "\n",
       "   n_words_in_title  \n",
       "0                12  \n",
       "1                 9  \n",
       "2                15  \n",
       "3                13  \n",
       "4                 7  \n",
       "\n",
       "[5 rows x 24 columns]"
      ]
     },
     "execution_count": 38,
     "metadata": {},
     "output_type": "execute_result"
    }
   ],
   "source": [
    "import pandas as pd\n",
    "\n",
    "laptopData = pd.read_csv(\"fulldataset.csv\", encoding = 'ISO-8859-1')\n",
    "\n",
    "#since we're visualizing data in connection with memory, drop missing values for memory\n",
    "laptopData = laptopData.dropna(subset=['memory'])\n",
    "laptopData['memory'] = laptopData['memory'].astype(int)\n",
    "laptopData.head()"
   ]
  },
  {
   "cell_type": "markdown",
   "metadata": {},
   "source": [
    "As we might expect, the greater the storage capacity, the higher the final selling price:"
   ]
  },
  {
   "cell_type": "code",
   "execution_count": 35,
   "metadata": {},
   "outputs": [
    {
     "data": {
      "image/png": "[encoded data removed]",
      "text/plain": [
       "<Figure size 432x288 with 1 Axes>"
      ]
     },
     "metadata": {
      "needs_background": "light"
     },
     "output_type": "display_data"
    }
   ],
   "source": [
    "import numpy as np\n",
    "import matplotlib.pyplot as plt\n",
    "%matplotlib inline\n",
    "\n",
    "m, b = np.polyfit(laptopData[\"memory\"], laptopData[\"memory\"], 1)\n",
    "\n",
    "fig=plt.figure()\n",
    "ax=fig.add_axes([0,0,1,1])\n",
    "ax.scatter(laptopData[\"memory\"], laptopData[\"price\"], color='b')\n",
    "ax.set_xlabel('Storage capacity (in GB)')\n",
    "ax.set_ylabel('Price')\n",
    "ax.set_title('scatter plot')\n",
    "plt.plot(laptopData[\"memory\"], m*laptopData[\"memory\"] + b)\n",
    "plt.xlim(100, 1020)\n",
    "plt.ylim(0, 4000)\n",
    "plt.show()"
   ]
  },
  {
   "cell_type": "markdown",
   "metadata": {},
   "source": [
    "Generally we find that including capacity measurement in the title raises sales price, across the major capacity categories.\n",
    "- And notice that the effect *doubles* as we move from 256 GB to 512 GB!\n",
    "- Caveat: no comparison data for 1000 GB, since seller always included memory in the title in this case."
   ]
  },
  {
   "cell_type": "code",
   "execution_count": 36,
   "metadata": {},
   "outputs": [
    {
     "data": {
      "image/png": "[encoded data removed]",
      "text/plain": [
       "<Figure size 432x288 with 1 Axes>"
      ]
     },
     "metadata": {
      "needs_background": "light"
     },
     "output_type": "display_data"
    }
   ],
   "source": [
    "laptopData2 = laptopData[(laptopData['memory'] == 128) | (laptopData['memory'] == 256) | (laptopData['memory'] == 512)]\n",
    "\n",
    "ax = sns.pointplot(x=\"memory\", y=\"price\", hue=\"memory_in_title\", dodge=True, data=laptopData2)"
   ]
  },
  {
   "cell_type": "markdown",
   "metadata": {},
   "source": [
    "There's a similar effect on *descriptions*, but it's more subtle. \n",
    "- Nearly no effect when the laptop is 128/256 GB;\n",
    "- but a significant effect when it's 512GB."
   ]
  },
  {
   "cell_type": "code",
   "execution_count": 37,
   "metadata": {},
   "outputs": [
    {
     "data": {
      "image/png": "[encoded data removed]",
      "text/plain": [
       "<Figure size 432x288 with 1 Axes>"
      ]
     },
     "metadata": {
      "needs_background": "light"
     },
     "output_type": "display_data"
    }
   ],
   "source": [
    "laptopData2 = laptopData[(laptopData['memory'] == 128) | (laptopData['memory'] == 256) | (laptopData['memory'] == 512)]\n",
    "\n",
    "ax = sns.pointplot(x=\"memory\", y=\"price\", hue=\"memory_in_description\", dodge=True, data=laptopData2)"
   ]
  },
  {
   "cell_type": "code",
   "execution_count": null,
   "metadata": {},
   "outputs": [],
   "source": []
  }
 ],
 "metadata": {
  "kernelspec": {
   "display_name": "Python 3",
   "language": "python",
   "name": "python3"
  },
  "language_info": {
   "codemirror_mode": {
    "name": "ipython",
    "version": 3
   },
   "file_extension": ".py",
   "mimetype": "text/x-python",
   "name": "python",
   "nbconvert_exporter": "python",
   "pygments_lexer": "ipython3",
   "version": "3.8.2"
  }
 },
 "nbformat": 4,
 "nbformat_minor": 4
}
